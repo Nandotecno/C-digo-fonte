{
 "cells": [
  {
   "cell_type": "code",
   "execution_count": null,
   "metadata": {},
   "outputs": [],
   "source": [
    "programa {\n",
    "    funcao inicio () {\n",
    "\n",
    "        escreva (\"informe o numero: \")\n",
    "        leia(numero)\n",
    "\n",
    "        resultado = numero - 1\n",
    "\n",
    "        escreva(\"O numero que voce digitou foi \" +numero + \" e o seu antecessor é \" + resultado )\n",
    "    }\n",
    "}"
   ]
  },
  {
   "cell_type": "code",
   "execution_count": null,
   "metadata": {},
   "outputs": [],
   "source": []
  }
 ],
 "metadata": {
  "language_info": {
   "name": "python"
  }
 },
 "nbformat": 4,
 "nbformat_minor": 2
}
